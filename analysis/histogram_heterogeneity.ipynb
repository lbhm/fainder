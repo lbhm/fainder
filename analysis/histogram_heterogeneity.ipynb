{
 "cells": [
  {
   "cell_type": "code",
   "execution_count": 1,
   "metadata": {},
   "outputs": [],
   "source": [
    "from pathlib import Path\n",
    "\n",
    "import matplotlib.pyplot as plt\n",
    "import numpy as np\n",
    "import seaborn as sns\n",
    "\n",
    "from fainder.typing import Histogram\n",
    "from fainder.utils import configure_run, load_input\n",
    "from utils.plotting_defaults import set_style\n",
    "\n",
    "configure_run(\"WARNING\")\n",
    "set_style()\n",
    "Path(\"plots/misc\").mkdir(parents=True, exist_ok=True)"
   ]
  },
  {
   "cell_type": "code",
   "execution_count": 2,
   "metadata": {},
   "outputs": [],
   "source": [
    "open_data: list[tuple[np.uint32, Histogram]] = load_input(\"../data/open_data_usa/histograms.zst\")\n",
    "gittables: list[tuple[np.uint32, Histogram]] = load_input(\"../data/gittables/histograms.zst\")"
   ]
  },
  {
   "cell_type": "code",
   "execution_count": 3,
   "metadata": {},
   "outputs": [],
   "source": [
    "data = {\n",
    "    \"open_data\": open_data,\n",
    "    \"gittables\": gittables,\n",
    "}"
   ]
  },
  {
   "cell_type": "code",
   "execution_count": 4,
   "metadata": {},
   "outputs": [],
   "source": [
    "features = {}\n",
    "for k, v in data.items():\n",
    "    features[k] = np.zeros((len(v), 3), dtype=np.float128)\n",
    "    for id_, hist in v:\n",
    "        features[k][id_] = (hist[1].min(), hist[1].max(), np.diff(hist[1]).mean())"
   ]
  },
  {
   "cell_type": "code",
   "execution_count": 5,
   "metadata": {},
   "outputs": [],
   "source": [
    "for k, v in features.items():\n",
    "    subset = np.random.default_rng().choice(v, size=min(100000, len(v)), axis=0, replace=False)\n",
    "    fig, ax = plt.subplots(figsize=(1.7, 1.2))\n",
    "    ax.scatter(subset[:, 1] - subset[:, 0], subset[:, 2])\n",
    "    ax.set_xscale(\"log\")\n",
    "    ax.set_yscale(\"log\")\n",
    "    ax.set_ylabel(\"Mean bin width\")\n",
    "    ax.set_xlabel(\"Histogram value range\")\n",
    "    sns.despine()\n",
    "    plt.tight_layout(pad=1.02)\n",
    "    plt.savefig(\n",
    "        f\"plots/misc/histogram_stats_{k}.png\", dpi=600, bbox_inches=\"tight\", pad_inches=0.01\n",
    "    )\n",
    "    plt.close()"
   ]
  }
 ],
 "metadata": {
  "kernelspec": {
   "display_name": "venv",
   "language": "python",
   "name": "python3"
  },
  "language_info": {
   "codemirror_mode": {
    "name": "ipython",
    "version": 3
   },
   "file_extension": ".py",
   "mimetype": "text/x-python",
   "name": "python",
   "nbconvert_exporter": "python",
   "pygments_lexer": "ipython3",
   "version": "3.11.6"
  }
 },
 "nbformat": 4,
 "nbformat_minor": 2
}
