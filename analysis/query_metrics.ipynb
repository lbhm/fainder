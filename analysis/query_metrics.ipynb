{
 "cells": [
  {
   "cell_type": "markdown",
   "metadata": {},
   "source": [
    "# Query Metric Analysis"
   ]
  },
  {
   "cell_type": "code",
   "execution_count": 1,
   "metadata": {},
   "outputs": [],
   "source": [
    "from pathlib import Path\n",
    "\n",
    "import matplotlib.pyplot as plt\n",
    "import pandas as pd\n",
    "import seaborn as sns\n",
    "from utils.plotting_defaults import delete_tex_cache, set_style\n",
    "\n",
    "from fainder.utils import configure_run, load_input\n",
    "\n",
    "set_style()\n",
    "configure_run(\"WARNING\")\n",
    "Path(\"plots/query_metrics\").mkdir(parents=True, exist_ok=True)"
   ]
  },
  {
   "cell_type": "code",
   "execution_count": 2,
   "metadata": {},
   "outputs": [],
   "source": [
    "delete_tex_cache()"
   ]
  },
  {
   "cell_type": "code",
   "execution_count": null,
   "metadata": {},
   "outputs": [],
   "source": [
    "for dataset in [\"sportstables\", \"open_data_usa\", \"gittables\"]:\n",
    "    selectivity, cluster_hits, bin_edge_matches = load_input(\n",
    "        f\"../data/{dataset}/queries/accuracy_benchmark/all-metrics.zst\"\n",
    "    )\n",
    "    metrics = pd.DataFrame(\n",
    "        {\n",
    "            \"QS\": selectivity,\n",
    "            \"SC\": cluster_hits,\n",
    "            \"BE\": bin_edge_matches,\n",
    "        }\n",
    "    )\n",
    "\n",
    "    fig, ax = plt.subplots(figsize=(1.25, 1.1))\n",
    "\n",
    "    sns.violinplot(data=metrics, ax=ax, cut=0)\n",
    "    ax.set_ylim(0, 1)\n",
    "    ax.set_ylabel(r\"Score\")\n",
    "    ax.set_yticks([0, 0.2, 0.4, 0.6, 0.8, 1])\n",
    "\n",
    "    plt.tight_layout(pad=1.02)\n",
    "    plt.savefig(f\"plots/query_metrics/{dataset}.pdf\", bbox_inches=\"tight\", pad_inches=0.01)\n",
    "    plt.close()"
   ]
  },
  {
   "cell_type": "code",
   "execution_count": null,
   "metadata": {},
   "outputs": [],
   "source": [
    "for dataset in [\"sportstables\", \"open_data_usa\", \"gittables\"]:\n",
    "    selectivity, cluster_hits, bin_edge_matches = load_input(\n",
    "        f\"../data/{dataset}/queries/llm/all-metrics.zst\"\n",
    "    )\n",
    "    metrics = pd.DataFrame(\n",
    "        {\n",
    "            \"QS\": selectivity,\n",
    "            \"SC\": cluster_hits,\n",
    "            \"BE\": bin_edge_matches,\n",
    "        }\n",
    "    )\n",
    "\n",
    "    metrics.hist()\n",
    "\n",
    "    plt.tight_layout(pad=1.02)\n",
    "    plt.show()\n",
    "    plt.close()"
   ]
  }
 ],
 "metadata": {
  "kernelspec": {
   "display_name": "venv",
   "language": "python",
   "name": "python3"
  },
  "language_info": {
   "codemirror_mode": {
    "name": "ipython",
    "version": 3
   },
   "file_extension": ".py",
   "mimetype": "text/x-python",
   "name": "python",
   "nbconvert_exporter": "python",
   "pygments_lexer": "ipython3",
   "version": "3.12.7"
  }
 },
 "nbformat": 4,
 "nbformat_minor": 2
}
