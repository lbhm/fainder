{
 "cells": [
  {
   "cell_type": "markdown",
   "metadata": {},
   "source": [
    "# Query Metric Analysis"
   ]
  },
  {
   "cell_type": "code",
   "execution_count": 1,
   "metadata": {},
   "outputs": [],
   "source": [
    "import shutil\n",
    "from pathlib import Path\n",
    "\n",
    "import matplotlib.pyplot as plt\n",
    "import pandas as pd\n",
    "import seaborn as sns\n",
    "\n",
    "from fainder.utils import load_input, configure_run\n",
    "from utils.plotting_defaults import set_style\n",
    "\n",
    "set_style()\n",
    "configure_run(\"WARNING\")"
   ]
  },
  {
   "cell_type": "code",
   "execution_count": 2,
   "metadata": {},
   "outputs": [],
   "source": [
    "try:\n",
    "    shutil.rmtree(Path.home() / \".cache\" / \"matplotlib\" / \"tex.cache\")\n",
    "except FileNotFoundError:\n",
    "    pass"
   ]
  },
  {
   "cell_type": "code",
   "execution_count": 5,
   "metadata": {},
   "outputs": [],
   "source": [
    "for i, dataset in enumerate([\"sportstables\", \"open_data_usa\", \"gittables\"]):\n",
    "    selectivity, cluster_hits, bin_edge_matches = load_input(\n",
    "        f\"../logs/query_metrics/{dataset}-metrics.zst\"\n",
    "    )\n",
    "    metrics = pd.DataFrame(\n",
    "        {\n",
    "            \"QS\": selectivity,\n",
    "            \"SC\": cluster_hits,\n",
    "            \"BE\": bin_edge_matches,\n",
    "        }\n",
    "    )\n",
    "\n",
    "    fig, ax = plt.subplots(figsize=(1.25, 1.1))\n",
    "\n",
    "    sns.violinplot(data=metrics, ax=ax, cut=0)\n",
    "    ax.set_ylim(0, 1)\n",
    "    ax.set_ylabel(r\"Score (\\%)\")\n",
    "    ax.set_yticks([0, 0.2, 0.4, 0.6, 0.8, 1])\n",
    "\n",
    "    plt.tight_layout(pad=1.02)\n",
    "    plt.savefig(f\"plots/query_metrics/{dataset}.pdf\", bbox_inches=\"tight\", pad_inches=0.01)\n",
    "    plt.close()"
   ]
  }
 ],
 "metadata": {
  "kernelspec": {
   "display_name": "venv",
   "language": "python",
   "name": "python3"
  },
  "language_info": {
   "codemirror_mode": {
    "name": "ipython",
    "version": 3
   },
   "file_extension": ".py",
   "mimetype": "text/x-python",
   "name": "python",
   "nbconvert_exporter": "python",
   "pygments_lexer": "ipython3",
   "version": "3.11.6"
  }
 },
 "nbformat": 4,
 "nbformat_minor": 2
}
